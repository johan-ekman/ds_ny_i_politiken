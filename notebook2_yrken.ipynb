{
 "cells": [
  {
   "cell_type": "code",
   "execution_count": 1,
   "metadata": {},
   "outputs": [],
   "source": [
    "import pandas as pd\n",
    "import re\n",
    "import warnings"
   ]
  },
  {
   "cell_type": "code",
   "execution_count": 2,
   "metadata": {},
   "outputs": [],
   "source": [
    "warnings.filterwarnings('ignore')"
   ]
  },
  {
   "cell_type": "markdown",
   "metadata": {},
   "source": [
    "I valmyndighetens kandidatsdata finns en kolumn som heter \"valsedelsuppgift\". I den så brukar kandidaterna skriva sitt yrke. Det är denna uppgift som jag här under försöker plocka fram.\n",
    "\n",
    "I den här processen har textuppgifterna från kandidaternas valsedalr tvättats upprepade gånger i [Open Refine](http://openrefine.org/), ett verktyg jag starkt rekommenderar för den som vill metodologiskt tvätta textdata."
   ]
  },
  {
   "cell_type": "markdown",
   "metadata": {},
   "source": [
    "# Kommunerna"
   ]
  },
  {
   "cell_type": "code",
   "execution_count": 98,
   "metadata": {},
   "outputs": [],
   "source": [
    "df = pd.read_csv('data/kandidaturer.skv',sep=';', encoding = \"ISO-8859-1\")"
   ]
  },
  {
   "cell_type": "code",
   "execution_count": 99,
   "metadata": {},
   "outputs": [
    {
     "data": {
      "text/plain": [
       "(184197, 24)"
      ]
     },
     "execution_count": 99,
     "metadata": {},
     "output_type": "execute_result"
    }
   ],
   "source": [
    "df.shape"
   ]
  },
  {
   "cell_type": "code",
   "execution_count": 100,
   "metadata": {},
   "outputs": [],
   "source": [
    "df.columns = df.columns.str.lower()"
   ]
  },
  {
   "cell_type": "code",
   "execution_count": 101,
   "metadata": {},
   "outputs": [],
   "source": [
    "partier = ['M','L','C','KD','S','V','MP','SD']"
   ]
  },
  {
   "cell_type": "code",
   "execution_count": 102,
   "metadata": {},
   "outputs": [],
   "source": [
    "df = df.loc[df.partiförkortning.isin(partier)]"
   ]
  },
  {
   "cell_type": "code",
   "execution_count": 103,
   "metadata": {},
   "outputs": [
    {
     "data": {
      "text/plain": [
       "Index(['valtyp', 'valområdeskod', 'valområdesnamn', 'valkretskod',\n",
       "       'valkretsnamn', 'partibeteckning', 'partiförkortning', 'partikod',\n",
       "       'valsedelsstatus', 'listnummer', 'ordning', 'anmkand', 'anmdeltagande',\n",
       "       'samtycke', 'förklaring', 'kandidatnummer', 'namn', 'ålder_på_valdagen',\n",
       "       'kön', 'folkbokföringsort', 'valsedelsuppgift', 'ant_best_vals',\n",
       "       'valbar_på_valdagen', 'giltig'],\n",
       "      dtype='object')"
      ]
     },
     "execution_count": 103,
     "metadata": {},
     "output_type": "execute_result"
    }
   ],
   "source": [
    "df.columns"
   ]
  },
  {
   "cell_type": "code",
   "execution_count": 104,
   "metadata": {},
   "outputs": [
    {
     "data": {
      "text/plain": [
       "False    145973\n",
       "True       4957\n",
       "Name: valsedelsuppgift, dtype: int64"
      ]
     },
     "execution_count": 104,
     "metadata": {},
     "output_type": "execute_result"
    }
   ],
   "source": [
    "df['valsedelsuppgift'].isnull().value_counts()"
   ]
  },
  {
   "cell_type": "code",
   "execution_count": 105,
   "metadata": {},
   "outputs": [],
   "source": [
    "df = df[['valtyp','namn','partiförkortning','kandidatnummer','valsedelsuppgift']].rename(columns={'partiförkortning':'parti'})"
   ]
  },
  {
   "cell_type": "code",
   "execution_count": 106,
   "metadata": {},
   "outputs": [
    {
     "data": {
      "text/plain": [
       "(150930, 5)"
      ]
     },
     "execution_count": 106,
     "metadata": {},
     "output_type": "execute_result"
    }
   ],
   "source": [
    "df.shape"
   ]
  },
  {
   "cell_type": "code",
   "execution_count": 107,
   "metadata": {},
   "outputs": [
    {
     "data": {
      "text/plain": [
       "(145973, 5)"
      ]
     },
     "execution_count": 107,
     "metadata": {},
     "output_type": "execute_result"
    }
   ],
   "source": [
    "df.dropna().shape # bort med alla som saknar valsedelsuppgift"
   ]
  },
  {
   "cell_type": "code",
   "execution_count": 108,
   "metadata": {},
   "outputs": [],
   "source": [
    "df = df.dropna()"
   ]
  },
  {
   "cell_type": "code",
   "execution_count": 109,
   "metadata": {},
   "outputs": [],
   "source": [
    "def number_ignorer(value):\n",
    "    r = re.match(\".*\\d+.*\",value)\n",
    "    if not r:\n",
    "        return value\n",
    "    else: \n",
    "        return"
   ]
  },
  {
   "cell_type": "code",
   "execution_count": 110,
   "metadata": {},
   "outputs": [],
   "source": [
    "df['tmp'] = df.valsedelsuppgift.str.split(',').apply(lambda x: [number_ignorer(y).strip() for y in x if number_ignorer(y)])"
   ]
  },
  {
   "cell_type": "code",
   "execution_count": 111,
   "metadata": {},
   "outputs": [],
   "source": [
    "df['tmp_len'] = df.tmp.apply(lambda x: len(x))"
   ]
  },
  {
   "cell_type": "code",
   "execution_count": 112,
   "metadata": {},
   "outputs": [
    {
     "data": {
      "text/plain": [
       "2    100835\n",
       "1     40264\n",
       "0      3505\n",
       "3      1324\n",
       "4        39\n",
       "5         6\n",
       "Name: tmp_len, dtype: int64"
      ]
     },
     "execution_count": 112,
     "metadata": {},
     "output_type": "execute_result"
    }
   ],
   "source": [
    "df.tmp_len.value_counts()"
   ]
  },
  {
   "cell_type": "code",
   "execution_count": 113,
   "metadata": {},
   "outputs": [],
   "source": [
    "df=df.reset_index(drop=True)"
   ]
  },
  {
   "cell_type": "code",
   "execution_count": 114,
   "metadata": {},
   "outputs": [],
   "source": [
    "övriga = df.loc[df['valtyp']!='K']"
   ]
  },
  {
   "cell_type": "code",
   "execution_count": 115,
   "metadata": {},
   "outputs": [],
   "source": [
    "df = df.loc[df['valtyp']=='K']"
   ]
  },
  {
   "cell_type": "code",
   "execution_count": 116,
   "metadata": {},
   "outputs": [],
   "source": [
    "df = df.set_index('kandidatnummer')"
   ]
  },
  {
   "cell_type": "markdown",
   "metadata": {},
   "source": [
    "Den här _jävligt_ feta lösningen på att få ut alla listvärdena i egna kolumner [kommer från detta svar](https://stackoverflow.com/questions/35491274/pandas-split-column-of-lists-into-multiple-columns):"
   ]
  },
  {
   "cell_type": "code",
   "execution_count": 117,
   "metadata": {},
   "outputs": [],
   "source": [
    "tvätt = pd.DataFrame(df.tmp.values.tolist(),index=df.index)"
   ]
  },
  {
   "cell_type": "code",
   "execution_count": 118,
   "metadata": {},
   "outputs": [],
   "source": [
    "tvätt.columns = ['col1','col2','col3','col4']"
   ]
  },
  {
   "cell_type": "code",
   "execution_count": 119,
   "metadata": {},
   "outputs": [],
   "source": [
    "for col in tvätt.columns:\n",
    "    tvätt[col] = tvätt[col].str.lower()"
   ]
  },
  {
   "cell_type": "code",
   "execution_count": 120,
   "metadata": {},
   "outputs": [],
   "source": [
    "tvätt = tvätt.reset_index().melt(id_vars='kandidatnummer')"
   ]
  },
  {
   "cell_type": "code",
   "execution_count": 121,
   "metadata": {},
   "outputs": [],
   "source": [
    "tvätt['value'] = tvätt.value.str.lower().str.strip()"
   ]
  },
  {
   "cell_type": "code",
   "execution_count": 122,
   "metadata": {},
   "outputs": [],
   "source": [
    "tvätt = tvätt.dropna()"
   ]
  },
  {
   "cell_type": "code",
   "execution_count": 123,
   "metadata": {},
   "outputs": [],
   "source": [
    "tvätt_data = tvätt.value.value_counts().loc[tvätt.value.value_counts()>2].reset_index().rename(columns={'index':'grund'})"
   ]
  },
  {
   "cell_type": "code",
   "execution_count": 124,
   "metadata": {},
   "outputs": [],
   "source": [
    "tvätt_data['tvätt'] = tvätt_data['grund']"
   ]
  },
  {
   "cell_type": "code",
   "execution_count": 125,
   "metadata": {},
   "outputs": [],
   "source": [
    "tvätt_data.drop('value',axis=1).to_csv('data/yrken_att_tvättas.csv',index=False)"
   ]
  },
  {
   "cell_type": "code",
   "execution_count": 126,
   "metadata": {},
   "outputs": [],
   "source": [
    "df1 = pd.read_csv('data/yrken_tvättade1.csv')"
   ]
  },
  {
   "cell_type": "code",
   "execution_count": 127,
   "metadata": {},
   "outputs": [
    {
     "data": {
      "text/plain": [
       "(3603, 3)"
      ]
     },
     "execution_count": 127,
     "metadata": {},
     "output_type": "execute_result"
    }
   ],
   "source": [
    "df1.shape"
   ]
  },
  {
   "cell_type": "code",
   "execution_count": 128,
   "metadata": {},
   "outputs": [],
   "source": [
    "df1.loc[df1['tvätt2']!='skräp'].to_csv('data/yrken_tvättade1.csv',index=False)"
   ]
  },
  {
   "cell_type": "markdown",
   "metadata": {},
   "source": [
    "Ovan fil har sedan tvättats återigen i refine till följande resultat:"
   ]
  },
  {
   "cell_type": "code",
   "execution_count": 129,
   "metadata": {},
   "outputs": [],
   "source": [
    "tvättad_data = pd.read_csv('data/yrken_tvättade2.csv')[['grund','tvätt3']]"
   ]
  },
  {
   "cell_type": "code",
   "execution_count": 130,
   "metadata": {},
   "outputs": [],
   "source": [
    "data = tvätt.rename(columns={'value':'grund'})"
   ]
  },
  {
   "cell_type": "code",
   "execution_count": 131,
   "metadata": {},
   "outputs": [],
   "source": [
    "data = data.merge(tvättad_data,on='grund',how='outer')[['kandidatnummer','tvätt3']]"
   ]
  },
  {
   "cell_type": "code",
   "execution_count": 132,
   "metadata": {},
   "outputs": [],
   "source": [
    "data = data.loc[~data['tvätt3'].isnull()]"
   ]
  },
  {
   "cell_type": "code",
   "execution_count": 133,
   "metadata": {},
   "outputs": [],
   "source": [
    "data = data.drop_duplicates()"
   ]
  },
  {
   "cell_type": "code",
   "execution_count": 134,
   "metadata": {},
   "outputs": [],
   "source": [
    "data = data.merge(data.kandidatnummer.value_counts().reset_index().rename(columns={'index':'kandidatnummer','kandidatnummer':'antal'}),on='kandidatnummer',how='left')"
   ]
  },
  {
   "cell_type": "markdown",
   "metadata": {},
   "source": [
    "All data är tvättad och ser korrekt ut, men det verkar som att det finns en del som har uppgivit mer än ett yrke. Min lösning blir därför att låta dessa dubletter vara kvar. Så en politiker kan räknas två gånger ifall hen har två yrken. Detta är dock inget större problem då dessa motsvarar ca 1,5 procent av samtliga. T ex \"civilekonom\" och \"civilekonom\". Se nedan ihopslagning för att se hur det kan se ut:"
   ]
  },
  {
   "cell_type": "code",
   "execution_count": 135,
   "metadata": {},
   "outputs": [
    {
     "data": {
      "text/html": [
       "<div>\n",
       "<style scoped>\n",
       "    .dataframe tbody tr th:only-of-type {\n",
       "        vertical-align: middle;\n",
       "    }\n",
       "\n",
       "    .dataframe tbody tr th {\n",
       "        vertical-align: top;\n",
       "    }\n",
       "\n",
       "    .dataframe thead th {\n",
       "        text-align: right;\n",
       "    }\n",
       "</style>\n",
       "<table border=\"1\" class=\"dataframe\">\n",
       "  <thead>\n",
       "    <tr style=\"text-align: right;\">\n",
       "      <th></th>\n",
       "      <th>kandidatnummer</th>\n",
       "      <th>tvätt3</th>\n",
       "      <th>antal</th>\n",
       "      <th>valsedelsuppgift</th>\n",
       "    </tr>\n",
       "  </thead>\n",
       "  <tbody>\n",
       "    <tr>\n",
       "      <th>0</th>\n",
       "      <td>1986</td>\n",
       "      <td>ekonom</td>\n",
       "      <td>2</td>\n",
       "      <td>ekonom, pensionär, Bokenäs</td>\n",
       "    </tr>\n",
       "    <tr>\n",
       "      <th>1</th>\n",
       "      <td>1986</td>\n",
       "      <td>pensionär</td>\n",
       "      <td>2</td>\n",
       "      <td>ekonom, pensionär, Bokenäs</td>\n",
       "    </tr>\n",
       "    <tr>\n",
       "      <th>2</th>\n",
       "      <td>12411</td>\n",
       "      <td>fil. dr.</td>\n",
       "      <td>2</td>\n",
       "      <td>71 år, Fil.Dr, Universitetslärare</td>\n",
       "    </tr>\n",
       "    <tr>\n",
       "      <th>3</th>\n",
       "      <td>12411</td>\n",
       "      <td>fil. dr.</td>\n",
       "      <td>2</td>\n",
       "      <td>71 år, Fil.Dr, Universitetslärare</td>\n",
       "    </tr>\n",
       "    <tr>\n",
       "      <th>4</th>\n",
       "      <td>12411</td>\n",
       "      <td>fil. dr.</td>\n",
       "      <td>2</td>\n",
       "      <td>71 år, Fil.Dr, Universitetslärare</td>\n",
       "    </tr>\n",
       "    <tr>\n",
       "      <th>5</th>\n",
       "      <td>12411</td>\n",
       "      <td>universitetslärare</td>\n",
       "      <td>2</td>\n",
       "      <td>71 år, Fil.Dr, Universitetslärare</td>\n",
       "    </tr>\n",
       "    <tr>\n",
       "      <th>6</th>\n",
       "      <td>12411</td>\n",
       "      <td>universitetslärare</td>\n",
       "      <td>2</td>\n",
       "      <td>71 år, Fil.Dr, Universitetslärare</td>\n",
       "    </tr>\n",
       "    <tr>\n",
       "      <th>7</th>\n",
       "      <td>12411</td>\n",
       "      <td>universitetslärare</td>\n",
       "      <td>2</td>\n",
       "      <td>71 år, Fil.Dr, Universitetslärare</td>\n",
       "    </tr>\n",
       "    <tr>\n",
       "      <th>8</th>\n",
       "      <td>12412</td>\n",
       "      <td>fil. mag.</td>\n",
       "      <td>2</td>\n",
       "      <td>29 år, Fil.Mag, Statstjänsteman</td>\n",
       "    </tr>\n",
       "    <tr>\n",
       "      <th>9</th>\n",
       "      <td>12412</td>\n",
       "      <td>fil. mag.</td>\n",
       "      <td>2</td>\n",
       "      <td>29 år, Fil.Mag, Statstjänsteman</td>\n",
       "    </tr>\n",
       "  </tbody>\n",
       "</table>\n",
       "</div>"
      ],
      "text/plain": [
       "   kandidatnummer              tvätt3  antal  \\\n",
       "0            1986              ekonom      2   \n",
       "1            1986           pensionär      2   \n",
       "2           12411            fil. dr.      2   \n",
       "3           12411            fil. dr.      2   \n",
       "4           12411            fil. dr.      2   \n",
       "5           12411  universitetslärare      2   \n",
       "6           12411  universitetslärare      2   \n",
       "7           12411  universitetslärare      2   \n",
       "8           12412           fil. mag.      2   \n",
       "9           12412           fil. mag.      2   \n",
       "\n",
       "                    valsedelsuppgift  \n",
       "0         ekonom, pensionär, Bokenäs  \n",
       "1         ekonom, pensionär, Bokenäs  \n",
       "2  71 år, Fil.Dr, Universitetslärare  \n",
       "3  71 år, Fil.Dr, Universitetslärare  \n",
       "4  71 år, Fil.Dr, Universitetslärare  \n",
       "5  71 år, Fil.Dr, Universitetslärare  \n",
       "6  71 år, Fil.Dr, Universitetslärare  \n",
       "7  71 år, Fil.Dr, Universitetslärare  \n",
       "8    29 år, Fil.Mag, Statstjänsteman  \n",
       "9    29 år, Fil.Mag, Statstjänsteman  "
      ]
     },
     "execution_count": 135,
     "metadata": {},
     "output_type": "execute_result"
    }
   ],
   "source": [
    "data.loc[data['antal']>1].sort_values('kandidatnummer').merge(df.reset_index()[['kandidatnummer','valsedelsuppgift']],on='kandidatnummer',how='left').head(10)"
   ]
  },
  {
   "cell_type": "code",
   "execution_count": 136,
   "metadata": {},
   "outputs": [
    {
     "data": {
      "text/plain": [
       "(30670, 3)"
      ]
     },
     "execution_count": 136,
     "metadata": {},
     "output_type": "execute_result"
    }
   ],
   "source": [
    "data.shape"
   ]
  },
  {
   "cell_type": "code",
   "execution_count": 137,
   "metadata": {},
   "outputs": [],
   "source": [
    "data = data.merge(df.reset_index()[['kandidatnummer','valtyp','valsedelsuppgift']],on='kandidatnummer',how='left')"
   ]
  },
  {
   "cell_type": "code",
   "execution_count": 138,
   "metadata": {},
   "outputs": [
    {
     "data": {
      "text/plain": [
       "(779, 5)"
      ]
     },
     "execution_count": 138,
     "metadata": {},
     "output_type": "execute_result"
    }
   ],
   "source": [
    "data.loc[data['antal']>1].shape"
   ]
  },
  {
   "cell_type": "code",
   "execution_count": 139,
   "metadata": {},
   "outputs": [],
   "source": [
    "data = data.rename(columns={'tvätt3':'tvätt'})[['kandidatnummer','tvätt','valtyp','valsedelsuppgift']]"
   ]
  },
  {
   "cell_type": "code",
   "execution_count": 140,
   "metadata": {},
   "outputs": [],
   "source": [
    "test = df.reset_index()"
   ]
  },
  {
   "cell_type": "code",
   "execution_count": 141,
   "metadata": {},
   "outputs": [],
   "source": [
    "test = test.merge(test.kandidatnummer.value_counts().reset_index().rename(columns={'index':'kandidatnummer','kandidatnummer':'antal'}),on='kandidatnummer',how='left')"
   ]
  },
  {
   "cell_type": "code",
   "execution_count": 142,
   "metadata": {},
   "outputs": [
    {
     "data": {
      "text/html": [
       "<div>\n",
       "<style scoped>\n",
       "    .dataframe tbody tr th:only-of-type {\n",
       "        vertical-align: middle;\n",
       "    }\n",
       "\n",
       "    .dataframe tbody tr th {\n",
       "        vertical-align: top;\n",
       "    }\n",
       "\n",
       "    .dataframe thead th {\n",
       "        text-align: right;\n",
       "    }\n",
       "</style>\n",
       "<table border=\"1\" class=\"dataframe\">\n",
       "  <thead>\n",
       "    <tr style=\"text-align: right;\">\n",
       "      <th></th>\n",
       "      <th>kandidatnummer</th>\n",
       "      <th>valtyp</th>\n",
       "      <th>namn</th>\n",
       "      <th>parti</th>\n",
       "      <th>valsedelsuppgift</th>\n",
       "      <th>tmp</th>\n",
       "      <th>tmp_len</th>\n",
       "      <th>antal</th>\n",
       "    </tr>\n",
       "  </thead>\n",
       "  <tbody>\n",
       "    <tr>\n",
       "      <th>0</th>\n",
       "      <td>202001</td>\n",
       "      <td>K</td>\n",
       "      <td>Mathias Bohman</td>\n",
       "      <td>S</td>\n",
       "      <td>44, Kommunstyrelsens ordförande, Centrala Väsby</td>\n",
       "      <td>[Kommunstyrelsens ordförande, Centrala Väsby]</td>\n",
       "      <td>2</td>\n",
       "      <td>1</td>\n",
       "    </tr>\n",
       "    <tr>\n",
       "      <th>1</th>\n",
       "      <td>202002</td>\n",
       "      <td>K</td>\n",
       "      <td>Suzanne Granqvist Enell</td>\n",
       "      <td>S</td>\n",
       "      <td>53, Försäljningschef, Bollstanäs</td>\n",
       "      <td>[Försäljningschef, Bollstanäs]</td>\n",
       "      <td>2</td>\n",
       "      <td>1</td>\n",
       "    </tr>\n",
       "    <tr>\n",
       "      <th>2</th>\n",
       "      <td>202003</td>\n",
       "      <td>K</td>\n",
       "      <td>Ibrahim Abdallah</td>\n",
       "      <td>S</td>\n",
       "      <td>39, Student, Grimsta</td>\n",
       "      <td>[Student, Grimsta]</td>\n",
       "      <td>2</td>\n",
       "      <td>1</td>\n",
       "    </tr>\n",
       "    <tr>\n",
       "      <th>3</th>\n",
       "      <td>202004</td>\n",
       "      <td>K</td>\n",
       "      <td>Barbro Brolin</td>\n",
       "      <td>S</td>\n",
       "      <td>61, Autismpedagog, Runby</td>\n",
       "      <td>[Autismpedagog, Runby]</td>\n",
       "      <td>2</td>\n",
       "      <td>1</td>\n",
       "    </tr>\n",
       "    <tr>\n",
       "      <th>4</th>\n",
       "      <td>202005</td>\n",
       "      <td>K</td>\n",
       "      <td>Gert Lindström</td>\n",
       "      <td>S</td>\n",
       "      <td>62, Byggnadsarbetare, Centrala Väsby</td>\n",
       "      <td>[Byggnadsarbetare, Centrala Väsby]</td>\n",
       "      <td>2</td>\n",
       "      <td>1</td>\n",
       "    </tr>\n",
       "  </tbody>\n",
       "</table>\n",
       "</div>"
      ],
      "text/plain": [
       "   kandidatnummer valtyp                     namn parti  \\\n",
       "0          202001      K           Mathias Bohman     S   \n",
       "1          202002      K  Suzanne Granqvist Enell     S   \n",
       "2          202003      K         Ibrahim Abdallah     S   \n",
       "3          202004      K            Barbro Brolin     S   \n",
       "4          202005      K           Gert Lindström     S   \n",
       "\n",
       "                                  valsedelsuppgift  \\\n",
       "0  44, Kommunstyrelsens ordförande, Centrala Väsby   \n",
       "1                 53, Försäljningschef, Bollstanäs   \n",
       "2                             39, Student, Grimsta   \n",
       "3                         61, Autismpedagog, Runby   \n",
       "4             62, Byggnadsarbetare, Centrala Väsby   \n",
       "\n",
       "                                             tmp  tmp_len  antal  \n",
       "0  [Kommunstyrelsens ordförande, Centrala Väsby]        2      1  \n",
       "1                 [Försäljningschef, Bollstanäs]        2      1  \n",
       "2                             [Student, Grimsta]        2      1  \n",
       "3                         [Autismpedagog, Runby]        2      1  \n",
       "4             [Byggnadsarbetare, Centrala Väsby]        2      1  "
      ]
     },
     "execution_count": 142,
     "metadata": {},
     "output_type": "execute_result"
    }
   ],
   "source": [
    "test.head()"
   ]
  },
  {
   "cell_type": "code",
   "execution_count": 143,
   "metadata": {},
   "outputs": [],
   "source": [
    "test = test.drop(['tmp','antal'],axis=1).drop_duplicates()"
   ]
  },
  {
   "cell_type": "code",
   "execution_count": 144,
   "metadata": {},
   "outputs": [],
   "source": [
    "test = test.merge(test.kandidatnummer.value_counts().reset_index().rename(columns={'index':'kandidatnummer','kandidatnummer':'antal'}),on='kandidatnummer',how='left')"
   ]
  },
  {
   "cell_type": "code",
   "execution_count": 145,
   "metadata": {},
   "outputs": [
    {
     "data": {
      "text/html": [
       "<div>\n",
       "<style scoped>\n",
       "    .dataframe tbody tr th:only-of-type {\n",
       "        vertical-align: middle;\n",
       "    }\n",
       "\n",
       "    .dataframe tbody tr th {\n",
       "        vertical-align: top;\n",
       "    }\n",
       "\n",
       "    .dataframe thead th {\n",
       "        text-align: right;\n",
       "    }\n",
       "</style>\n",
       "<table border=\"1\" class=\"dataframe\">\n",
       "  <thead>\n",
       "    <tr style=\"text-align: right;\">\n",
       "      <th></th>\n",
       "      <th>kandidatnummer</th>\n",
       "      <th>valtyp</th>\n",
       "      <th>namn</th>\n",
       "      <th>parti</th>\n",
       "      <th>valsedelsuppgift</th>\n",
       "      <th>tmp_len</th>\n",
       "      <th>antal</th>\n",
       "    </tr>\n",
       "  </thead>\n",
       "  <tbody>\n",
       "    <tr>\n",
       "      <th>25984</th>\n",
       "      <td>1895</td>\n",
       "      <td>K</td>\n",
       "      <td>Erik Norderby</td>\n",
       "      <td>C</td>\n",
       "      <td>34 år,Nordby,Fjällbacka</td>\n",
       "      <td>2</td>\n",
       "      <td>2</td>\n",
       "    </tr>\n",
       "    <tr>\n",
       "      <th>25992</th>\n",
       "      <td>1895</td>\n",
       "      <td>K</td>\n",
       "      <td>Erik Norderby</td>\n",
       "      <td>C</td>\n",
       "      <td>Nordby, Fjällbacka</td>\n",
       "      <td>2</td>\n",
       "      <td>2</td>\n",
       "    </tr>\n",
       "    <tr>\n",
       "      <th>25961</th>\n",
       "      <td>11734</td>\n",
       "      <td>K</td>\n",
       "      <td>Thomas Fransson</td>\n",
       "      <td>C</td>\n",
       "      <td>Villavägen, Bullaren</td>\n",
       "      <td>2</td>\n",
       "      <td>2</td>\n",
       "    </tr>\n",
       "    <tr>\n",
       "      <th>25983</th>\n",
       "      <td>11734</td>\n",
       "      <td>K</td>\n",
       "      <td>Thomas Fransson</td>\n",
       "      <td>C</td>\n",
       "      <td>30 år,Villavägen,Bullaren</td>\n",
       "      <td>2</td>\n",
       "      <td>2</td>\n",
       "    </tr>\n",
       "    <tr>\n",
       "      <th>3778</th>\n",
       "      <td>13860</td>\n",
       "      <td>K</td>\n",
       "      <td>Anita Lundin</td>\n",
       "      <td>M</td>\n",
       "      <td>71, Fil. mag</td>\n",
       "      <td>1</td>\n",
       "      <td>2</td>\n",
       "    </tr>\n",
       "  </tbody>\n",
       "</table>\n",
       "</div>"
      ],
      "text/plain": [
       "       kandidatnummer valtyp             namn parti  \\\n",
       "25984            1895      K    Erik Norderby     C   \n",
       "25992            1895      K    Erik Norderby     C   \n",
       "25961           11734      K  Thomas Fransson     C   \n",
       "25983           11734      K  Thomas Fransson     C   \n",
       "3778            13860      K     Anita Lundin     M   \n",
       "\n",
       "                valsedelsuppgift  tmp_len  antal  \n",
       "25984    34 år,Nordby,Fjällbacka        2      2  \n",
       "25992         Nordby, Fjällbacka        2      2  \n",
       "25961       Villavägen, Bullaren        2      2  \n",
       "25983  30 år,Villavägen,Bullaren        2      2  \n",
       "3778                71, Fil. mag        1      2  "
      ]
     },
     "execution_count": 145,
     "metadata": {},
     "output_type": "execute_result"
    }
   ],
   "source": [
    "test.loc[test.antal>1].sort_values('kandidatnummer').head()"
   ]
  },
  {
   "cell_type": "code",
   "execution_count": 51,
   "metadata": {},
   "outputs": [
    {
     "data": {
      "text/plain": [
       "SD    311\n",
       "S     128\n",
       "MP     69\n",
       "KD     14\n",
       "M      14\n",
       "V       4\n",
       "C       4\n",
       "Name: parti, dtype: int64"
      ]
     },
     "execution_count": 51,
     "metadata": {},
     "output_type": "execute_result"
    }
   ],
   "source": [
    "test.loc[test['antal']>1].sort_values('kandidatnummer').parti.value_counts()"
   ]
  },
  {
   "cell_type": "markdown",
   "metadata": {},
   "source": [
    "Ovan kan vi se de kandidater som finns på två olika valsedlar (som är skrivna olika). Av dessa är mer än hälften kandidater från SD. Vi ignorerar dessa.\n",
    "\n",
    "Nu ska vi plocka fram alla som är invalda!"
   ]
  },
  {
   "cell_type": "code",
   "execution_count": 149,
   "metadata": {},
   "outputs": [],
   "source": [
    "data.rename(columns={'kandidatnummer':'id'}).to_csv('data/kommunpol_yrken.csv',index=False)"
   ]
  },
  {
   "cell_type": "markdown",
   "metadata": {},
   "source": [
    "# Riket och landstingen"
   ]
  },
  {
   "cell_type": "markdown",
   "metadata": {},
   "source": [
    "Jag är ett ägg och sorterade bort alla kandidater för riksdagen och landstingen. Så jag behövde tvätta en gång till >:("
   ]
  },
  {
   "cell_type": "markdown",
   "metadata": {},
   "source": [
    "Ovanför är då alltså alla kommunkandidater. Nu för alla övriga:"
   ]
  },
  {
   "cell_type": "code",
   "execution_count": 67,
   "metadata": {},
   "outputs": [],
   "source": [
    "övriga = övriga.set_index('kandidatnummer') # filen kandidaturer.skv som tvättats och innehållandes endast R och L"
   ]
  },
  {
   "cell_type": "code",
   "execution_count": 68,
   "metadata": {},
   "outputs": [],
   "source": [
    "tvätt = pd.DataFrame(övriga.tmp.values.tolist(),index=övriga.index)"
   ]
  },
  {
   "cell_type": "code",
   "execution_count": 69,
   "metadata": {},
   "outputs": [],
   "source": [
    "tvätt.columns = ['col1','col2','col3','col4','col5']"
   ]
  },
  {
   "cell_type": "code",
   "execution_count": 70,
   "metadata": {},
   "outputs": [],
   "source": [
    "for col in tvätt.columns:\n",
    "    tvätt[col] = tvätt[col].str.lower()"
   ]
  },
  {
   "cell_type": "code",
   "execution_count": 71,
   "metadata": {},
   "outputs": [],
   "source": [
    "tvätt = tvätt.reset_index().melt(id_vars='kandidatnummer')"
   ]
  },
  {
   "cell_type": "code",
   "execution_count": 72,
   "metadata": {},
   "outputs": [],
   "source": [
    "tvätt['value'] = tvätt.value.str.lower().str.strip()"
   ]
  },
  {
   "cell_type": "code",
   "execution_count": 73,
   "metadata": {},
   "outputs": [],
   "source": [
    "tvätt = tvätt.dropna()"
   ]
  },
  {
   "cell_type": "code",
   "execution_count": 74,
   "metadata": {},
   "outputs": [],
   "source": [
    "tvätt_data = tvätt.value.value_counts().loc[tvätt.value.value_counts()>2].reset_index().rename(columns={'index':'grund'})"
   ]
  },
  {
   "cell_type": "code",
   "execution_count": 75,
   "metadata": {},
   "outputs": [],
   "source": [
    "tvätt_data['tvätt'] = tvätt_data['grund']"
   ]
  },
  {
   "cell_type": "code",
   "execution_count": 76,
   "metadata": {},
   "outputs": [],
   "source": [
    "test_rens = pd.read_csv('data/yrken_tvättade2.csv')[['grund','tvätt3']]"
   ]
  },
  {
   "cell_type": "code",
   "execution_count": 77,
   "metadata": {},
   "outputs": [],
   "source": [
    "test = test_rens.merge(tvätt_data,on='grund',how='left')[['grund','tvätt','tvätt3']].dropna()"
   ]
  },
  {
   "cell_type": "code",
   "execution_count": 78,
   "metadata": {},
   "outputs": [],
   "source": [
    "tvätt_data = tvätt_data[['grund','tvätt']]"
   ]
  },
  {
   "cell_type": "code",
   "execution_count": 79,
   "metadata": {},
   "outputs": [],
   "source": [
    "tvätt_data = tvätt_data.merge(test.rename(columns={'tvätt':'tvätt_K'}),on='grund',how='left')"
   ]
  },
  {
   "cell_type": "code",
   "execution_count": 80,
   "metadata": {},
   "outputs": [],
   "source": [
    "tvätt_data.loc[~tvätt_data['tvätt3'].isnull(),'tvätt'] = \\\n",
    "tvätt_data.loc[~tvätt_data['tvätt3'].isnull(),'tvätt3']"
   ]
  },
  {
   "cell_type": "markdown",
   "metadata": {},
   "source": [
    "Så denna data ska nu tvättas i Refine:"
   ]
  },
  {
   "cell_type": "code",
   "execution_count": 81,
   "metadata": {},
   "outputs": [],
   "source": [
    "tvätt_data[['grund','tvätt']].to_csv('data/tvtt_övriga.csv',index=False)"
   ]
  },
  {
   "cell_type": "markdown",
   "metadata": {},
   "source": [
    "Och detta är resultatet av det:"
   ]
  },
  {
   "cell_type": "code",
   "execution_count": 82,
   "metadata": {},
   "outputs": [],
   "source": [
    "df1 = pd.read_csv('data/tvätt_övriga2.csv')"
   ]
  },
  {
   "cell_type": "code",
   "execution_count": 83,
   "metadata": {},
   "outputs": [],
   "source": [
    "data = tvätt.rename(columns={'value':'grund'})"
   ]
  },
  {
   "cell_type": "code",
   "execution_count": 84,
   "metadata": {},
   "outputs": [],
   "source": [
    "data = data.merge(df1,on='grund',how='outer')[['kandidatnummer','grund','tvätt']]"
   ]
  },
  {
   "cell_type": "code",
   "execution_count": 85,
   "metadata": {},
   "outputs": [],
   "source": [
    "data = data.loc[data['tvätt']!='ort']"
   ]
  },
  {
   "cell_type": "code",
   "execution_count": 86,
   "metadata": {},
   "outputs": [],
   "source": [
    "data = data.loc[~data['tvätt'].isnull()]"
   ]
  },
  {
   "cell_type": "code",
   "execution_count": 87,
   "metadata": {},
   "outputs": [],
   "source": [
    "data = data.drop_duplicates()"
   ]
  },
  {
   "cell_type": "code",
   "execution_count": 88,
   "metadata": {},
   "outputs": [],
   "source": [
    "data = data.merge(data.kandidatnummer.value_counts().reset_index().rename(columns={'index':'kandidatnummer','kandidatnummer':'antal'}),on='kandidatnummer',how='left')"
   ]
  },
  {
   "cell_type": "code",
   "execution_count": 89,
   "metadata": {},
   "outputs": [],
   "source": [
    "riks_län = data.groupby(['kandidatnummer','grund','tvätt']).count().reset_index()"
   ]
  },
  {
   "cell_type": "code",
   "execution_count": 90,
   "metadata": {},
   "outputs": [
    {
     "data": {
      "text/html": [
       "<div>\n",
       "<style scoped>\n",
       "    .dataframe tbody tr th:only-of-type {\n",
       "        vertical-align: middle;\n",
       "    }\n",
       "\n",
       "    .dataframe tbody tr th {\n",
       "        vertical-align: top;\n",
       "    }\n",
       "\n",
       "    .dataframe thead th {\n",
       "        text-align: right;\n",
       "    }\n",
       "</style>\n",
       "<table border=\"1\" class=\"dataframe\">\n",
       "  <thead>\n",
       "    <tr style=\"text-align: right;\">\n",
       "      <th></th>\n",
       "      <th>kandidatnummer</th>\n",
       "      <th>grund</th>\n",
       "      <th>tvätt</th>\n",
       "      <th>antal</th>\n",
       "    </tr>\n",
       "  </thead>\n",
       "  <tbody>\n",
       "    <tr>\n",
       "      <th>0</th>\n",
       "      <td>1</td>\n",
       "      <td>projektledare</td>\n",
       "      <td>projektledare</td>\n",
       "      <td>1</td>\n",
       "    </tr>\n",
       "    <tr>\n",
       "      <th>1</th>\n",
       "      <td>3</td>\n",
       "      <td>handläggare</td>\n",
       "      <td>handläggare</td>\n",
       "      <td>1</td>\n",
       "    </tr>\n",
       "    <tr>\n",
       "      <th>2</th>\n",
       "      <td>4</td>\n",
       "      <td>enhetschef</td>\n",
       "      <td>chef</td>\n",
       "      <td>1</td>\n",
       "    </tr>\n",
       "    <tr>\n",
       "      <th>3</th>\n",
       "      <td>5</td>\n",
       "      <td>handläggare</td>\n",
       "      <td>handläggare</td>\n",
       "      <td>1</td>\n",
       "    </tr>\n",
       "    <tr>\n",
       "      <th>4</th>\n",
       "      <td>8</td>\n",
       "      <td>socialsekreterare</td>\n",
       "      <td>socialarbetare</td>\n",
       "      <td>1</td>\n",
       "    </tr>\n",
       "  </tbody>\n",
       "</table>\n",
       "</div>"
      ],
      "text/plain": [
       "   kandidatnummer              grund           tvätt  antal\n",
       "0               1      projektledare   projektledare      1\n",
       "1               3        handläggare     handläggare      1\n",
       "2               4         enhetschef            chef      1\n",
       "3               5        handläggare     handläggare      1\n",
       "4               8  socialsekreterare  socialarbetare      1"
      ]
     },
     "execution_count": 90,
     "metadata": {},
     "output_type": "execute_result"
    }
   ],
   "source": [
    "riks_län.head()"
   ]
  },
  {
   "cell_type": "code",
   "execution_count": 91,
   "metadata": {},
   "outputs": [],
   "source": [
    "riks_län = riks_län.merge(övriga.reset_index()[['kandidatnummer',\n",
    "                                                'valtyp',\n",
    "                                                'valsedelsuppgift']],\n",
    "                          on='kandidatnummer',\n",
    "                          how='left')\\\n",
    "                    .drop_duplicates()\\\n",
    "                    .drop(['grund',\n",
    "                           'antal'],\n",
    "                          axis=1).rename(columns={'kandidatnummer':'id'})"
   ]
  },
  {
   "cell_type": "code",
   "execution_count": 150,
   "metadata": {},
   "outputs": [
    {
     "data": {
      "text/html": [
       "<div>\n",
       "<style scoped>\n",
       "    .dataframe tbody tr th:only-of-type {\n",
       "        vertical-align: middle;\n",
       "    }\n",
       "\n",
       "    .dataframe tbody tr th {\n",
       "        vertical-align: top;\n",
       "    }\n",
       "\n",
       "    .dataframe thead th {\n",
       "        text-align: right;\n",
       "    }\n",
       "</style>\n",
       "<table border=\"1\" class=\"dataframe\">\n",
       "  <thead>\n",
       "    <tr style=\"text-align: right;\">\n",
       "      <th></th>\n",
       "      <th>id</th>\n",
       "      <th>tvätt</th>\n",
       "      <th>valtyp</th>\n",
       "      <th>valsedelsuppgift</th>\n",
       "    </tr>\n",
       "  </thead>\n",
       "  <tbody>\n",
       "    <tr>\n",
       "      <th>0</th>\n",
       "      <td>1</td>\n",
       "      <td>projektledare</td>\n",
       "      <td>R</td>\n",
       "      <td>Projektledare, Sala</td>\n",
       "    </tr>\n",
       "    <tr>\n",
       "      <th>1</th>\n",
       "      <td>1</td>\n",
       "      <td>projektledare</td>\n",
       "      <td>L</td>\n",
       "      <td>Projektledare, Sala</td>\n",
       "    </tr>\n",
       "    <tr>\n",
       "      <th>3</th>\n",
       "      <td>3</td>\n",
       "      <td>handläggare</td>\n",
       "      <td>R</td>\n",
       "      <td>Handläggare, Sala</td>\n",
       "    </tr>\n",
       "    <tr>\n",
       "      <th>4</th>\n",
       "      <td>3</td>\n",
       "      <td>handläggare</td>\n",
       "      <td>L</td>\n",
       "      <td>Handläggare, Sala</td>\n",
       "    </tr>\n",
       "    <tr>\n",
       "      <th>6</th>\n",
       "      <td>4</td>\n",
       "      <td>chef</td>\n",
       "      <td>R</td>\n",
       "      <td>Enhetschef, Sala</td>\n",
       "    </tr>\n",
       "  </tbody>\n",
       "</table>\n",
       "</div>"
      ],
      "text/plain": [
       "   id          tvätt valtyp     valsedelsuppgift\n",
       "0   1  projektledare      R  Projektledare, Sala\n",
       "1   1  projektledare      L  Projektledare, Sala\n",
       "3   3    handläggare      R    Handläggare, Sala\n",
       "4   3    handläggare      L    Handläggare, Sala\n",
       "6   4           chef      R     Enhetschef, Sala"
      ]
     },
     "execution_count": 150,
     "metadata": {},
     "output_type": "execute_result"
    }
   ],
   "source": [
    "riks_län.head()"
   ]
  },
  {
   "cell_type": "code",
   "execution_count": 87,
   "metadata": {},
   "outputs": [],
   "source": [
    "riks_län.to_csv('data/rikslänpol_yrken.csv',index=False)"
   ]
  },
  {
   "cell_type": "markdown",
   "metadata": {},
   "source": [
    "# Yrken samtliga kandidater"
   ]
  },
  {
   "cell_type": "code",
   "execution_count": 155,
   "metadata": {},
   "outputs": [],
   "source": [
    "samtliga = pd.concat([pd.read_csv('data/kommunpol_yrken.csv'),pd.read_csv('data/rikslänpol_yrken.csv')])"
   ]
  },
  {
   "cell_type": "code",
   "execution_count": 158,
   "metadata": {},
   "outputs": [],
   "source": [
    "samtliga = samtliga[['id','tvätt','valsedelsuppgift']].drop_duplicates()"
   ]
  },
  {
   "cell_type": "code",
   "execution_count": 159,
   "metadata": {},
   "outputs": [],
   "source": [
    "samtliga.to_csv('data/yrken_alla_kand.csv',index=False)"
   ]
  },
  {
   "cell_type": "code",
   "execution_count": null,
   "metadata": {},
   "outputs": [],
   "source": []
  },
  {
   "cell_type": "code",
   "execution_count": null,
   "metadata": {},
   "outputs": [],
   "source": []
  },
  {
   "cell_type": "code",
   "execution_count": 273,
   "metadata": {},
   "outputs": [],
   "source": []
  },
  {
   "cell_type": "code",
   "execution_count": null,
   "metadata": {},
   "outputs": [],
   "source": []
  },
  {
   "cell_type": "code",
   "execution_count": null,
   "metadata": {},
   "outputs": [],
   "source": []
  },
  {
   "cell_type": "code",
   "execution_count": null,
   "metadata": {},
   "outputs": [],
   "source": []
  },
  {
   "cell_type": "code",
   "execution_count": null,
   "metadata": {},
   "outputs": [],
   "source": []
  },
  {
   "cell_type": "code",
   "execution_count": null,
   "metadata": {},
   "outputs": [],
   "source": []
  },
  {
   "cell_type": "code",
   "execution_count": null,
   "metadata": {},
   "outputs": [],
   "source": []
  },
  {
   "cell_type": "code",
   "execution_count": null,
   "metadata": {},
   "outputs": [],
   "source": []
  },
  {
   "cell_type": "code",
   "execution_count": null,
   "metadata": {},
   "outputs": [],
   "source": []
  },
  {
   "cell_type": "code",
   "execution_count": null,
   "metadata": {},
   "outputs": [],
   "source": []
  }
 ],
 "metadata": {
  "kernelspec": {
   "display_name": "Python 3",
   "language": "python",
   "name": "python3"
  },
  "language_info": {
   "codemirror_mode": {
    "name": "ipython",
    "version": 3
   },
   "file_extension": ".py",
   "mimetype": "text/x-python",
   "name": "python",
   "nbconvert_exporter": "python",
   "pygments_lexer": "ipython3",
   "version": "3.6.2"
  }
 },
 "nbformat": 4,
 "nbformat_minor": 2
}
