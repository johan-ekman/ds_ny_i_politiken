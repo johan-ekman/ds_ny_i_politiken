{
 "cells": [
  {
   "cell_type": "code",
   "execution_count": 2,
   "metadata": {},
   "outputs": [],
   "source": [
    "import pandas as pd\n",
    "import numpy as np\n",
    "\n",
    "import os\n",
    "\n",
    "import matplotlib.pyplot as plt\n",
    "%matplotlib inline"
   ]
  },
  {
   "cell_type": "markdown",
   "metadata": {},
   "source": [
    "December 2018\n",
    "\n",
    "I slutet av januari kommer ett nummer med tema \"Ny i politiken\". Till detta är det tänkt en överblick av alla de som är nya in i alla fullmäktige runt om i Sverige. Från Valmyndigheten (Henrik Hannebo) har jag fått en fil med kopplingar mellan ledamöter som valdes in förra valet och vilket id dessa har i det senaste valet. Med dessa kan jag då alltså se vilka som inte satt förra mandatperioden. Längre bak än så finns det inte några kopplingar enligt Henrik Hannebo – ansvarig handläggare på Valmyndigheten."
   ]
  },
  {
   "cell_type": "markdown",
   "metadata": {},
   "source": [
    "[Här finner man artikeln på alla nya kandidater.](https://dagenssamhalle.se/nyhet/kommunpolitikerna-parti-parti-25593)\n",
    "\n",
    "[Och här på alla kandidaternas yrken, parti för parti.](https://dagenssamhalle.se/nyhet/har-ar-politikernas-vanligaste-yrken-26127)"
   ]
  },
  {
   "cell_type": "markdown",
   "metadata": {},
   "source": [
    "## De nya kandidaterna"
   ]
  },
  {
   "cell_type": "code",
   "execution_count": 3,
   "metadata": {},
   "outputs": [],
   "source": [
    "df = pd.read_excel('data/alla_valda_2018.xlsx')"
   ]
  },
  {
   "cell_type": "code",
   "execution_count": 4,
   "metadata": {},
   "outputs": [],
   "source": [
    "df.columns= df.columns.str.lower().str.replace(\" \",\"_\")"
   ]
  },
  {
   "cell_type": "code",
   "execution_count": 5,
   "metadata": {},
   "outputs": [],
   "source": [
    "df = df[['valtyp',\n",
    "         'län',\n",
    "         'kommun',\n",
    "         'partiförkortning',\n",
    "         'kandnr',\n",
    "         'ålder_valdag',\n",
    "         'kön',\n",
    "         'förnamn',\n",
    "         'efternamn']].rename(columns={'kandnr':'id',\n",
    "                                       'ålder_valdag':'ålder',\n",
    "                                       'partiförkortning':'parti'})"
   ]
  },
  {
   "cell_type": "code",
   "execution_count": 6,
   "metadata": {},
   "outputs": [
    {
     "data": {
      "text/html": [
       "<div>\n",
       "<style scoped>\n",
       "    .dataframe tbody tr th:only-of-type {\n",
       "        vertical-align: middle;\n",
       "    }\n",
       "\n",
       "    .dataframe tbody tr th {\n",
       "        vertical-align: top;\n",
       "    }\n",
       "\n",
       "    .dataframe thead th {\n",
       "        text-align: right;\n",
       "    }\n",
       "</style>\n",
       "<table border=\"1\" class=\"dataframe\">\n",
       "  <thead>\n",
       "    <tr style=\"text-align: right;\">\n",
       "      <th></th>\n",
       "      <th>valtyp</th>\n",
       "      <th>län</th>\n",
       "      <th>kommun</th>\n",
       "      <th>parti</th>\n",
       "      <th>id</th>\n",
       "      <th>ålder</th>\n",
       "      <th>kön</th>\n",
       "      <th>förnamn</th>\n",
       "      <th>efternamn</th>\n",
       "    </tr>\n",
       "  </thead>\n",
       "  <tbody>\n",
       "    <tr>\n",
       "      <th>0</th>\n",
       "      <td>R</td>\n",
       "      <td>NaN</td>\n",
       "      <td>NaN</td>\n",
       "      <td>M</td>\n",
       "      <td>215984.0</td>\n",
       "      <td>51.0</td>\n",
       "      <td>K</td>\n",
       "      <td>Annicka</td>\n",
       "      <td>Engblom</td>\n",
       "    </tr>\n",
       "    <tr>\n",
       "      <th>1</th>\n",
       "      <td>R</td>\n",
       "      <td>NaN</td>\n",
       "      <td>NaN</td>\n",
       "      <td>S</td>\n",
       "      <td>139330.0</td>\n",
       "      <td>45.0</td>\n",
       "      <td>K</td>\n",
       "      <td>Heléne</td>\n",
       "      <td>Björklund</td>\n",
       "    </tr>\n",
       "    <tr>\n",
       "      <th>2</th>\n",
       "      <td>R</td>\n",
       "      <td>NaN</td>\n",
       "      <td>NaN</td>\n",
       "      <td>S</td>\n",
       "      <td>139331.0</td>\n",
       "      <td>37.0</td>\n",
       "      <td>M</td>\n",
       "      <td>Magnus</td>\n",
       "      <td>Manhammar</td>\n",
       "    </tr>\n",
       "    <tr>\n",
       "      <th>3</th>\n",
       "      <td>R</td>\n",
       "      <td>NaN</td>\n",
       "      <td>NaN</td>\n",
       "      <td>SD</td>\n",
       "      <td>386660.0</td>\n",
       "      <td>28.0</td>\n",
       "      <td>K</td>\n",
       "      <td>Angelika</td>\n",
       "      <td>Bengtsson</td>\n",
       "    </tr>\n",
       "    <tr>\n",
       "      <th>4</th>\n",
       "      <td>R</td>\n",
       "      <td>NaN</td>\n",
       "      <td>NaN</td>\n",
       "      <td>SD</td>\n",
       "      <td>386652.0</td>\n",
       "      <td>49.0</td>\n",
       "      <td>M</td>\n",
       "      <td>Richard</td>\n",
       "      <td>Jomshof</td>\n",
       "    </tr>\n",
       "  </tbody>\n",
       "</table>\n",
       "</div>"
      ],
      "text/plain": [
       "  valtyp  län kommun parti        id  ålder kön   förnamn  efternamn\n",
       "0      R  NaN    NaN     M  215984.0   51.0   K   Annicka    Engblom\n",
       "1      R  NaN    NaN     S  139330.0   45.0   K    Heléne  Björklund\n",
       "2      R  NaN    NaN     S  139331.0   37.0   M    Magnus  Manhammar\n",
       "3      R  NaN    NaN    SD  386660.0   28.0   K  Angelika  Bengtsson\n",
       "4      R  NaN    NaN    SD  386652.0   49.0   M   Richard    Jomshof"
      ]
     },
     "execution_count": 6,
     "metadata": {},
     "output_type": "execute_result"
    }
   ],
   "source": [
    "df.head()"
   ]
  },
  {
   "cell_type": "code",
   "execution_count": 7,
   "metadata": {},
   "outputs": [],
   "source": [
    "nummer = pd.read_excel('data/kandnr_2014_2018.xlsx').rename(columns={'KANDNR2014':'kand2014','KANDNR2018':'id'})"
   ]
  },
  {
   "cell_type": "code",
   "execution_count": 8,
   "metadata": {},
   "outputs": [],
   "source": [
    "nummer['kand2014'] = 'ja'"
   ]
  },
  {
   "cell_type": "code",
   "execution_count": 9,
   "metadata": {},
   "outputs": [],
   "source": [
    "df = df.merge(nummer,on='id',how='outer')"
   ]
  },
  {
   "cell_type": "code",
   "execution_count": 10,
   "metadata": {},
   "outputs": [
    {
     "data": {
      "text/plain": [
       "False    33299\n",
       "True      3500\n",
       "Name: kand2014, dtype: int64"
      ]
     },
     "execution_count": 10,
     "metadata": {},
     "output_type": "execute_result"
    }
   ],
   "source": [
    "df.kand2014.isnull().value_counts()"
   ]
  },
  {
   "cell_type": "markdown",
   "metadata": {},
   "source": [
    "Nu plockar vi fram endast de som är nya in i fullmäktige:"
   ]
  },
  {
   "cell_type": "code",
   "execution_count": 11,
   "metadata": {},
   "outputs": [
    {
     "data": {
      "text/plain": [
       "SD    8\n",
       "V     4\n",
       "MP    3\n",
       "M     2\n",
       "KD    2\n",
       "L     2\n",
       "S     1\n",
       "C     1\n",
       "Name: parti, dtype: int64"
      ]
     },
     "execution_count": 11,
     "metadata": {},
     "output_type": "execute_result"
    }
   ],
   "source": [
    "df.loc[(df['kand2014'].isnull())&(df['valtyp']=='R')].parti.value_counts()"
   ]
  },
  {
   "cell_type": "markdown",
   "metadata": {},
   "source": [
    "Här ser vi ett problem med datat! T ex så fick C 9 nya mandat i riksdagen, SD fick 13. Men detta syns inte i ovan sammanställning.\n",
    "\n",
    "I de kopplingar som Valmyndigheten så ingick inte info om vilken fullmäktige som ledamöterna satt i under förra mandatperioden. För att veta med säkerhet så måste vi först koppla varje ledamot till vilken plats de satt på under förra mandatperioden."
   ]
  },
  {
   "cell_type": "code",
   "execution_count": 12,
   "metadata": {},
   "outputs": [],
   "source": [
    "df2014 = pd.read_excel('data/alla_valda_2014.xls')\\\n",
    "        [['valtyp',\n",
    "         'län',\n",
    "         'kommun',\n",
    "         'parti',\n",
    "         'kandidatnr',\n",
    "         'ålder',\n",
    "         'kön',\n",
    "         'förnamn',\n",
    "         'efternamn']].rename(columns={'kandidatnr':'id2014'})"
   ]
  },
  {
   "cell_type": "code",
   "execution_count": 13,
   "metadata": {},
   "outputs": [],
   "source": [
    "nummer = pd.read_excel('data/kandnr_2014_2018.xlsx').rename(columns={'KANDNR2014':'id2014','KANDNR2018':'id'})"
   ]
  },
  {
   "cell_type": "code",
   "execution_count": 14,
   "metadata": {},
   "outputs": [],
   "source": [
    "df2014=df2014.merge(nummer, on='id2014',how='left')[['valtyp','parti','id2014','id']].dropna()"
   ]
  },
  {
   "cell_type": "code",
   "execution_count": 15,
   "metadata": {},
   "outputs": [],
   "source": [
    "kandr2014 = df2014.groupby(['id2014','valtyp','parti']).count().reset_index().pivot(index='id2014',columns='valtyp',values='id')"
   ]
  },
  {
   "cell_type": "code",
   "execution_count": 16,
   "metadata": {},
   "outputs": [],
   "source": [
    "kandr2014.columns = [x + '2014' for x in kandr2014.columns]"
   ]
  },
  {
   "cell_type": "code",
   "execution_count": 17,
   "metadata": {},
   "outputs": [],
   "source": [
    "kandr2014.reset_index(inplace=True)"
   ]
  },
  {
   "cell_type": "code",
   "execution_count": 18,
   "metadata": {},
   "outputs": [],
   "source": [
    "kandr2014 = kandr2014.merge(nummer,on='id2014',how='left')"
   ]
  },
  {
   "cell_type": "code",
   "execution_count": 19,
   "metadata": {},
   "outputs": [],
   "source": [
    "df = pd.read_excel('data/alla_valda_2018.xlsx')"
   ]
  },
  {
   "cell_type": "code",
   "execution_count": 20,
   "metadata": {},
   "outputs": [],
   "source": [
    "df.columns= df.columns.str.lower().str.replace(\" \",\"_\")"
   ]
  },
  {
   "cell_type": "code",
   "execution_count": 21,
   "metadata": {},
   "outputs": [],
   "source": [
    "df = df[['valtyp',\n",
    "         'län',\n",
    "         'kommun',\n",
    "         'partiförkortning',\n",
    "         'kandnr',\n",
    "         'ålder_valdag',\n",
    "         'kön',\n",
    "         'förnamn',\n",
    "         'efternamn']].rename(columns={'kandnr':'id',\n",
    "                                       'ålder_valdag':'ålder',\n",
    "                                       'partiförkortning':'parti'})"
   ]
  },
  {
   "cell_type": "code",
   "execution_count": 22,
   "metadata": {},
   "outputs": [],
   "source": [
    "kandr2018 = df.groupby(['id','valtyp','parti']).count().reset_index().pivot(index='id',columns='valtyp',values='efternamn').reset_index()"
   ]
  },
  {
   "cell_type": "code",
   "execution_count": 23,
   "metadata": {},
   "outputs": [],
   "source": [
    "kandr2018 = kandr2018.merge(kandr2014,on='id',how='left').drop('id2014',axis=1).set_index('id')"
   ]
  },
  {
   "cell_type": "code",
   "execution_count": 24,
   "metadata": {},
   "outputs": [],
   "source": [
    "for col in ['K','L','R']:\n",
    "    kandr2018.loc[kandr2018[col]==kandr2018[f'{col}2014'],f'{col}2014'] = col\n",
    "    kandr2018.loc[kandr2018[f'{col}2014']!=col,f'{col}2014'] = np.nan"
   ]
  },
  {
   "cell_type": "code",
   "execution_count": 25,
   "metadata": {},
   "outputs": [],
   "source": [
    "kandr2018 = kandr2018.iloc[:,3:].reset_index()"
   ]
  },
  {
   "cell_type": "code",
   "execution_count": 26,
   "metadata": {},
   "outputs": [],
   "source": [
    "df = df.merge(kandr2018,on='id',how='left')"
   ]
  },
  {
   "cell_type": "code",
   "execution_count": 27,
   "metadata": {},
   "outputs": [],
   "source": [
    "for elec in ['K','L','R']:\n",
    "    df.loc[df['valtyp']==df[f'{elec}2014'],'samma_stol'] = 'ja'"
   ]
  },
  {
   "cell_type": "code",
   "execution_count": 28,
   "metadata": {},
   "outputs": [
    {
     "data": {
      "text/plain": [
       "S     32\n",
       "SD    29\n",
       "M     26\n",
       "KD    13\n",
       "V     13\n",
       "C     12\n",
       "MP     9\n",
       "L      7\n",
       "Name: parti, dtype: int64"
      ]
     },
     "execution_count": 28,
     "metadata": {},
     "output_type": "execute_result"
    }
   ],
   "source": [
    "df.loc[(df['valtyp']=='R')&(df['samma_stol'].isnull()),'parti'].value_counts()"
   ]
  },
  {
   "cell_type": "code",
   "execution_count": 29,
   "metadata": {},
   "outputs": [
    {
     "data": {
      "text/plain": [
       "Index(['valtyp', 'län', 'kommun', 'parti', 'id', 'ålder', 'kön', 'förnamn',\n",
       "       'efternamn', 'K2014', 'L2014', 'R2014', 'samma_stol'],\n",
       "      dtype='object')"
      ]
     },
     "execution_count": 29,
     "metadata": {},
     "output_type": "execute_result"
    }
   ],
   "source": [
    "df.columns"
   ]
  },
  {
   "cell_type": "code",
   "execution_count": 30,
   "metadata": {},
   "outputs": [],
   "source": [
    "test = df['K2014'].apply(lambda x: [x] if x else None) + df['L2014'].apply(lambda x: [x] if x else None) + df['R2014'].apply(lambda x: [x] if x else None)"
   ]
  },
  {
   "cell_type": "code",
   "execution_count": 31,
   "metadata": {},
   "outputs": [],
   "source": [
    "df['stolar2014'] = test.apply(lambda x: pd.Series(x).dropna().tolist())"
   ]
  },
  {
   "cell_type": "code",
   "execution_count": 32,
   "metadata": {},
   "outputs": [],
   "source": [
    "df = df.drop(['K2014', 'L2014', 'R2014'],axis=1)"
   ]
  },
  {
   "cell_type": "code",
   "execution_count": 33,
   "metadata": {},
   "outputs": [],
   "source": [
    "df.loc[(df['samma_stol'].isnull())&(df['stolar2014'].apply(lambda x: len(x))>0),'samma_stol'] = 'annan'"
   ]
  },
  {
   "cell_type": "code",
   "execution_count": 34,
   "metadata": {},
   "outputs": [],
   "source": [
    "df.samma_stol = df.samma_stol.fillna('satt ej 2014')"
   ]
  },
  {
   "cell_type": "code",
   "execution_count": 35,
   "metadata": {},
   "outputs": [],
   "source": [
    "partier = ['M','C','L','KD','S','V','MP','SD']"
   ]
  },
  {
   "cell_type": "code",
   "execution_count": 36,
   "metadata": {},
   "outputs": [
    {
     "data": {
      "text/plain": [
       "<matplotlib.axes._subplots.AxesSubplot at 0x11ad6fc18>"
      ]
     },
     "execution_count": 36,
     "metadata": {},
     "output_type": "execute_result"
    },
    {
     "data": {
      "image/png": "[encoded data removed]",
      "text/plain": [
       "<Figure size 432x288 with 1 Axes>"
      ]
     },
     "metadata": {
      "needs_background": "light"
     },
     "output_type": "display_data"
    }
   ],
   "source": [
    "df.loc[df['parti'].isin(partier)].groupby(['parti','samma_stol']).count()['valtyp'].sort_values().unstack(0).plot(kind='barh',grid=True)"
   ]
  },
  {
   "cell_type": "code",
   "execution_count": 37,
   "metadata": {},
   "outputs": [
    {
     "data": {
      "text/plain": [
       "<matplotlib.axes._subplots.AxesSubplot at 0x11af50e48>"
      ]
     },
     "execution_count": 37,
     "metadata": {},
     "output_type": "execute_result"
    },
    {
     "data": {
      "image/png": "[encoded data removed]",
      "text/plain": [
       "<Figure size 432x288 with 1 Axes>"
      ]
     },
     "metadata": {
      "needs_background": "light"
     },
     "output_type": "display_data"
    }
   ],
   "source": [
    "df.groupby('samma_stol').count()['valtyp'].plot(kind='barh')"
   ]
  },
  {
   "cell_type": "code",
   "execution_count": 38,
   "metadata": {},
   "outputs": [
    {
     "data": {
      "text/html": [
       "<div>\n",
       "<style scoped>\n",
       "    .dataframe tbody tr th:only-of-type {\n",
       "        vertical-align: middle;\n",
       "    }\n",
       "\n",
       "    .dataframe tbody tr th {\n",
       "        vertical-align: top;\n",
       "    }\n",
       "\n",
       "    .dataframe thead th {\n",
       "        text-align: right;\n",
       "    }\n",
       "</style>\n",
       "<table border=\"1\" class=\"dataframe\">\n",
       "  <thead>\n",
       "    <tr style=\"text-align: right;\">\n",
       "      <th></th>\n",
       "      <th>valtyp</th>\n",
       "      <th>län</th>\n",
       "      <th>kommun</th>\n",
       "      <th>parti</th>\n",
       "      <th>id</th>\n",
       "      <th>ålder</th>\n",
       "      <th>kön</th>\n",
       "      <th>förnamn</th>\n",
       "      <th>efternamn</th>\n",
       "      <th>samma_stol</th>\n",
       "      <th>stolar2014</th>\n",
       "    </tr>\n",
       "  </thead>\n",
       "  <tbody>\n",
       "    <tr>\n",
       "      <th>0</th>\n",
       "      <td>R</td>\n",
       "      <td>NaN</td>\n",
       "      <td>NaN</td>\n",
       "      <td>M</td>\n",
       "      <td>215984.0</td>\n",
       "      <td>51.0</td>\n",
       "      <td>K</td>\n",
       "      <td>Annicka</td>\n",
       "      <td>Engblom</td>\n",
       "      <td>ja</td>\n",
       "      <td>[R]</td>\n",
       "    </tr>\n",
       "    <tr>\n",
       "      <th>1</th>\n",
       "      <td>R</td>\n",
       "      <td>NaN</td>\n",
       "      <td>NaN</td>\n",
       "      <td>S</td>\n",
       "      <td>139330.0</td>\n",
       "      <td>45.0</td>\n",
       "      <td>K</td>\n",
       "      <td>Heléne</td>\n",
       "      <td>Björklund</td>\n",
       "      <td>annan</td>\n",
       "      <td>[K]</td>\n",
       "    </tr>\n",
       "    <tr>\n",
       "      <th>2</th>\n",
       "      <td>R</td>\n",
       "      <td>NaN</td>\n",
       "      <td>NaN</td>\n",
       "      <td>S</td>\n",
       "      <td>139331.0</td>\n",
       "      <td>37.0</td>\n",
       "      <td>M</td>\n",
       "      <td>Magnus</td>\n",
       "      <td>Manhammar</td>\n",
       "      <td>ja</td>\n",
       "      <td>[R]</td>\n",
       "    </tr>\n",
       "    <tr>\n",
       "      <th>3</th>\n",
       "      <td>R</td>\n",
       "      <td>NaN</td>\n",
       "      <td>NaN</td>\n",
       "      <td>SD</td>\n",
       "      <td>386660.0</td>\n",
       "      <td>28.0</td>\n",
       "      <td>K</td>\n",
       "      <td>Angelika</td>\n",
       "      <td>Bengtsson</td>\n",
       "      <td>ja</td>\n",
       "      <td>[R]</td>\n",
       "    </tr>\n",
       "    <tr>\n",
       "      <th>4</th>\n",
       "      <td>R</td>\n",
       "      <td>NaN</td>\n",
       "      <td>NaN</td>\n",
       "      <td>SD</td>\n",
       "      <td>386652.0</td>\n",
       "      <td>49.0</td>\n",
       "      <td>M</td>\n",
       "      <td>Richard</td>\n",
       "      <td>Jomshof</td>\n",
       "      <td>ja</td>\n",
       "      <td>[R]</td>\n",
       "    </tr>\n",
       "  </tbody>\n",
       "</table>\n",
       "</div>"
      ],
      "text/plain": [
       "  valtyp  län kommun parti        id  ålder kön   förnamn  efternamn  \\\n",
       "0      R  NaN    NaN     M  215984.0   51.0   K   Annicka    Engblom   \n",
       "1      R  NaN    NaN     S  139330.0   45.0   K    Heléne  Björklund   \n",
       "2      R  NaN    NaN     S  139331.0   37.0   M    Magnus  Manhammar   \n",
       "3      R  NaN    NaN    SD  386660.0   28.0   K  Angelika  Bengtsson   \n",
       "4      R  NaN    NaN    SD  386652.0   49.0   M   Richard    Jomshof   \n",
       "\n",
       "  samma_stol stolar2014  \n",
       "0         ja        [R]  \n",
       "1      annan        [K]  \n",
       "2         ja        [R]  \n",
       "3         ja        [R]  \n",
       "4         ja        [R]  "
      ]
     },
     "execution_count": 38,
     "metadata": {},
     "output_type": "execute_result"
    }
   ],
   "source": [
    "df.head()"
   ]
  },
  {
   "cell_type": "markdown",
   "metadata": {},
   "source": [
    "## Yrken"
   ]
  },
  {
   "cell_type": "code",
   "execution_count": 39,
   "metadata": {},
   "outputs": [],
   "source": [
    "yrken = pd.read_csv('data/yrken_alla_kand_tvättad.csv')"
   ]
  },
  {
   "cell_type": "code",
   "execution_count": 40,
   "metadata": {},
   "outputs": [],
   "source": [
    "yrken = yrken.loc[~(yrken['tvätt2']=='ort')]"
   ]
  },
  {
   "cell_type": "code",
   "execution_count": 41,
   "metadata": {},
   "outputs": [
    {
     "data": {
      "text/plain": [
       "(14745, 11)"
      ]
     },
     "execution_count": 41,
     "metadata": {},
     "output_type": "execute_result"
    }
   ],
   "source": [
    "df.shape"
   ]
  },
  {
   "cell_type": "code",
   "execution_count": 42,
   "metadata": {},
   "outputs": [],
   "source": [
    "os.makedirs('res')"
   ]
  },
  {
   "cell_type": "code",
   "execution_count": 43,
   "metadata": {},
   "outputs": [],
   "source": [
    "df.merge(yrken,on='id',how='left').to_excel('res/med_valsedelsuppgift.xlsx',index=False)"
   ]
  },
  {
   "cell_type": "code",
   "execution_count": 44,
   "metadata": {},
   "outputs": [],
   "source": [
    "slutv = df.merge(yrken.drop('valsedelsuppgift',axis=1).drop_duplicates(),\n",
    "         on='id',\n",
    "         how='left')\\\n",
    "    .drop('tvätt',axis=1)\\\n",
    "    #.rename(columns={'tvätt2':'yrke'})#.drop_duplicates()\n",
    "    #.to_excel('resultat/med_valsedelsuppgift.xlsx',index=False)"
   ]
  },
  {
   "cell_type": "code",
   "execution_count": 45,
   "metadata": {},
   "outputs": [],
   "source": [
    "slutv = slutv.rename(columns={'tvätt2':'yrke'})#.drop_duplicates()"
   ]
  },
  {
   "cell_type": "code",
   "execution_count": 46,
   "metadata": {},
   "outputs": [],
   "source": [
    "slutv.stolar2014 = slutv.stolar2014.apply(lambda x: ','.join(x))"
   ]
  },
  {
   "cell_type": "code",
   "execution_count": 47,
   "metadata": {},
   "outputs": [],
   "source": [
    "slutv.drop_duplicates().to_excel('res/utan_valsedelsuppgift.xlsx',index=False)"
   ]
  },
  {
   "cell_type": "code",
   "execution_count": 48,
   "metadata": {},
   "outputs": [
    {
     "data": {
      "text/plain": [
       "(15373, 12)"
      ]
     },
     "execution_count": 48,
     "metadata": {},
     "output_type": "execute_result"
    }
   ],
   "source": [
    "slutv.drop_duplicates().shape"
   ]
  },
  {
   "cell_type": "code",
   "execution_count": 49,
   "metadata": {},
   "outputs": [],
   "source": [
    "df.to_excel('res/utan_yrken.xlsx',index=False)"
   ]
  },
  {
   "cell_type": "code",
   "execution_count": 50,
   "metadata": {},
   "outputs": [
    {
     "data": {
      "text/plain": [
       "False    10883\n",
       "True      4588\n",
       "Name: yrke, dtype: int64"
      ]
     },
     "execution_count": 50,
     "metadata": {},
     "output_type": "execute_result"
    }
   ],
   "source": [
    "slutv.yrke.isnull().value_counts()"
   ]
  },
  {
   "cell_type": "code",
   "execution_count": 51,
   "metadata": {},
   "outputs": [],
   "source": [
    "slutv.yrke.value_counts().reset_index().rename(columns={'index':'yrke','yrke':'antal'}).to_excel('res/topplista_yrken.xlsx',index=False)"
   ]
  },
  {
   "cell_type": "code",
   "execution_count": 52,
   "metadata": {},
   "outputs": [],
   "source": [
    "tmp = slutv.yrke.value_counts().reset_index().rename(columns={'index':'yrke','yrke':'antal'})"
   ]
  },
  {
   "cell_type": "code",
   "execution_count": 53,
   "metadata": {},
   "outputs": [
    {
     "data": {
      "text/plain": [
       "(775, 2)"
      ]
     },
     "execution_count": 53,
     "metadata": {},
     "output_type": "execute_result"
    }
   ],
   "source": [
    "tmp.loc[tmp['antal']>0].shape#.sum()"
   ]
  },
  {
   "cell_type": "code",
   "execution_count": null,
   "metadata": {},
   "outputs": [],
   "source": []
  },
  {
   "cell_type": "code",
   "execution_count": 54,
   "metadata": {},
   "outputs": [
    {
     "data": {
      "text/plain": [
       "9923"
      ]
     },
     "execution_count": 54,
     "metadata": {},
     "output_type": "execute_result"
    }
   ],
   "source": [
    "slutv.yrke.value_counts().iloc[:244].sum()"
   ]
  },
  {
   "cell_type": "code",
   "execution_count": 55,
   "metadata": {},
   "outputs": [
    {
     "data": {
      "text/plain": [
       "10883"
      ]
     },
     "execution_count": 55,
     "metadata": {},
     "output_type": "execute_result"
    }
   ],
   "source": [
    "slutv.yrke.value_counts().sum()"
   ]
  },
  {
   "cell_type": "code",
   "execution_count": 56,
   "metadata": {},
   "outputs": [
    {
     "data": {
      "text/plain": [
       "0.9491868051088854"
      ]
     },
     "execution_count": 56,
     "metadata": {},
     "output_type": "execute_result"
    }
   ],
   "source": [
    "10330/10883"
   ]
  },
  {
   "cell_type": "code",
   "execution_count": null,
   "metadata": {},
   "outputs": [],
   "source": []
  },
  {
   "cell_type": "code",
   "execution_count": null,
   "metadata": {},
   "outputs": [],
   "source": []
  },
  {
   "cell_type": "code",
   "execution_count": null,
   "metadata": {},
   "outputs": [],
   "source": []
  },
  {
   "cell_type": "code",
   "execution_count": null,
   "metadata": {},
   "outputs": [],
   "source": []
  },
  {
   "cell_type": "code",
   "execution_count": null,
   "metadata": {},
   "outputs": [],
   "source": []
  }
 ],
 "metadata": {
  "kernelspec": {
   "display_name": "Python 3",
   "language": "python",
   "name": "python3"
  },
  "language_info": {
   "codemirror_mode": {
    "name": "ipython",
    "version": 3
   },
   "file_extension": ".py",
   "mimetype": "text/x-python",
   "name": "python",
   "nbconvert_exporter": "python",
   "pygments_lexer": "ipython3",
   "version": "3.6.2"
  }
 },
 "nbformat": 4,
 "nbformat_minor": 2
}
